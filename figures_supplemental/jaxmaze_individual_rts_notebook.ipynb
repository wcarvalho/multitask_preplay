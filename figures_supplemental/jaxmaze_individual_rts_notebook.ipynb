{
 "cells": [
  {
   "cell_type": "code",
   "execution_count": 2,
   "id": "e3e798c0-eb0c-4512-95e4-9f54068f9a8a",
   "metadata": {},
   "outputs": [],
   "source": [
    "%load_ext autoreload\n",
    "%autoreload 2"
   ]
  },
  {
   "cell_type": "code",
   "execution_count": 3,
   "id": "21a07b38-c10e-49a3-955d-1e68ad7cc6f7",
   "metadata": {},
   "outputs": [
    {
     "name": "stdout",
     "output_type": "stream",
     "text": [
      "at directory: /Users/wilka/git/research/human-dyna-web/figures\n",
      "changing to root directory\n",
      "at directory: /Users/wilka/git/research/human-dyna-web\n"
     ]
    }
   ],
   "source": [
    "import os\n",
    "import sys\n",
    "\n",
    "print(\"at directory:\", os.getcwd())\n",
    "print(\"changing to root directory\")\n",
    "os.chdir(\"../\")\n",
    "print(\"at directory:\", os.getcwd())"
   ]
  },
  {
   "cell_type": "code",
   "execution_count": 4,
   "id": "fefc59c5-a765-47ae-82b8-3a322ab90225",
   "metadata": {},
   "outputs": [],
   "source": [
    "sys.path.append(\"simulations\")"
   ]
  },
  {
   "cell_type": "code",
   "execution_count": 5,
   "id": "ab7b012f-cfeb-41bd-8928-6e791290ee44",
   "metadata": {},
   "outputs": [
    {
     "name": "stdout",
     "output_type": "stream",
     "text": [
      "No file specified for image dict.\n",
      "Using: /Users/wilka/git/research/human-dyna-web/libraries/housemaze/housemaze/image_data.pkl\n",
      "No file specified for groups.\n",
      "Using: /Users/wilka/git/research/human-dyna-web/libraries/housemaze/housemaze/human_dyna/list_of_groups.npy\n",
      "No file specified for image dict.\n",
      "Using: /Users/wilka/git/research/human-dyna-web/libraries/housemaze/housemaze/image_data.pkl\n",
      "No file specified for image dict.\n",
      "Using: /Users/wilka/git/research/human-dyna-web/libraries/housemaze/housemaze/image_data.pkl\n",
      "No file specified for groups.\n",
      "Using: /Users/wilka/git/research/human-dyna-web/libraries/housemaze/housemaze/human_dyna/list_of_groups.npy\n",
      "No file specified for image dict.\n",
      "Using: /Users/wilka/git/research/human-dyna-web/libraries/housemaze/housemaze/image_data.pkl\n"
     ]
    }
   ],
   "source": [
    "import polars as pl\n",
    "import jax\n",
    "\n",
    "from analysis import housemaze_model_data\n",
    "from analysis import housemaze_user_data\n",
    "\n",
    "from analysis import housemaze_utils\n",
    "from analysis import experiment_analysis\n",
    "from analysis import housemaze_analysis\n",
    "from nicewebrl import dataframe"
   ]
  },
  {
   "cell_type": "code",
   "execution_count": 6,
   "id": "fc47675b-8ae9-4212-9852-8a2b62a295c5",
   "metadata": {},
   "outputs": [
    {
     "name": "stdout",
     "output_type": "stream",
     "text": [
      "/Users/wilka/git/research/preplay_results/jaxmaze_user_data/user_data/exps/*final*v2**.json\n"
     ]
    },
    {
     "data": {
      "text/plain": [
       "400"
      ]
     },
     "execution_count": 6,
     "metadata": {},
     "output_type": "execute_result"
    }
   ],
   "source": [
    "from glob import glob\n",
    "import configs\n",
    "\n",
    "# ON COMPUTER\n",
    "RESULTS_DIR = \"/Users/wilka/git/research/\"\n",
    "USER_RESULTS_DIR = os.path.join(configs.JAXMAZE_USER_DIR, \"user_data/exps\")\n",
    "\n",
    "human_data_pattern = \"final*v2*\"\n",
    "\n",
    "files = f\"{USER_RESULTS_DIR}/*{human_data_pattern}*.json\"\n",
    "# files = 'jaxemaze_data/*.json'\n",
    "print(files)\n",
    "valid_files = list(set(glob(files)))\n",
    "len(valid_files)"
   ]
  },
  {
   "cell_type": "code",
   "execution_count": 7,
   "id": "b37e66a7-3eae-4849-940c-91003229e8ba",
   "metadata": {},
   "outputs": [
    {
     "name": "stderr",
     "output_type": "stream",
     "text": [
      "/Users/wilka/miniforge3/envs/preplay/lib/python3.10/site-packages/joblib/externals/loky/backend/fork_exec.py:38: RuntimeWarning: Using fork() can cause Polars to deadlock in the child process.\n",
      "In addition, using fork() with Python in general is a recipe for mysterious\n",
      "deadlocks and crashes.\n",
      "\n",
      "The most likely reason you are seeing this error is because you are using the\n",
      "multiprocessing module on Linux, which uses fork() by default. This will be\n",
      "fixed in Python 3.14. Until then, you want to use the \"spawn\" context instead.\n",
      "\n",
      "See https://docs.pola.rs/user-guide/misc/multiprocessing/ for details.\n",
      "\n",
      "  pid = os.fork()\n",
      "Failed to unpack record in /Users/wilka/git/research/preplay_results/jaxmaze_user_data/user_data/exps/user=4238060579_name=jaxmaze_final-v2-r1-t0-start_debug=0.json: unpack(b) received extra data.\n"
     ]
    },
    {
     "data": {
      "application/vnd.jupyter.widget-view+json": {
       "model_id": "cf4f7c69af8442b2886be65ecfc2e54c",
       "version_major": 2,
       "version_minor": 0
      },
      "text/plain": [
       "Combining results:   0%|          | 0/400 [00:00<?, ?it/s]"
      ]
     },
     "metadata": {},
     "output_type": "display_data"
    }
   ],
   "source": [
    "# %debug\n",
    "user_df = housemaze_user_data.get_human_data(\n",
    "  valid_files,\n",
    "  overwrite_episode_data=False,\n",
    "  overwrite_episode_info=False,\n",
    "  require_finished=False,\n",
    "  load_df_only=False,\n",
    "  debug=False,\n",
    ")"
   ]
  },
  {
   "cell_type": "code",
   "execution_count": 180,
   "id": "86766a91-1b48-4494-a536-5fb8b4e9d8fc",
   "metadata": {},
   "outputs": [
    {
     "data": {
      "text/html": [
       "<div><style>\n",
       ".dataframe > thead > tr,\n",
       ".dataframe > tbody > tr {\n",
       "  text-align: right;\n",
       "  white-space: pre-wrap;\n",
       "}\n",
       "</style>\n",
       "<small>shape: (5, 16)</small><table border=\"1\" class=\"dataframe\"><thead><tr><th>index</th><th>user_id</th><th>reuse0_idx</th><th>reuse1_idx</th><th>reuse0_first_rt</th><th>reuse0_max_rt</th><th>reuse0_first_log_rt</th><th>reuse0_max_log_rt</th><th>reuse1_first_rt</th><th>reuse1_max_rt</th><th>reuse1_first_log_rt</th><th>reuse1_max_log_rt</th><th>diff_first_rt</th><th>diff_max_rt</th><th>diff_first_log_rt</th><th>diff_max_log_rt</th></tr><tr><td>u32</td><td>i64</td><td>i64</td><td>i64</td><td>f64</td><td>f64</td><td>f64</td><td>f64</td><td>f64</td><td>f64</td><td>f64</td><td>f64</td><td>f64</td><td>f64</td><td>f64</td><td>f64</td></tr></thead><tbody><tr><td>0</td><td>2404965</td><td>1</td><td>1</td><td>2.063</td><td>2.063</td><td>7.631916</td><td>7.631916</td><td>1.621</td><td>1.649</td><td>7.390799</td><td>7.407924</td><td>0.442</td><td>0.414</td><td>0.241118</td><td>0.223992</td></tr><tr><td>1</td><td>63217729</td><td>1</td><td>0</td><td>2.48</td><td>2.48</td><td>7.816014</td><td>7.816014</td><td>1.519</td><td>1.519</td><td>7.325808</td><td>7.325808</td><td>0.961</td><td>0.961</td><td>0.490206</td><td>0.490206</td></tr><tr><td>2</td><td>223001226</td><td>1</td><td>0</td><td>1.072</td><td>1.502</td><td>6.977281</td><td>7.314553</td><td>1.011</td><td>1.011</td><td>6.918695</td><td>6.918695</td><td>0.061</td><td>0.491</td><td>0.058586</td><td>0.395858</td></tr><tr><td>3</td><td>254728038</td><td>0</td><td>1</td><td>0.623</td><td>1.515</td><td>6.434547</td><td>7.323171</td><td>0.884</td><td>0.884</td><td>6.784457</td><td>6.784457</td><td>-0.261</td><td>0.631</td><td>-0.349911</td><td>0.538714</td></tr><tr><td>4</td><td>256821651</td><td>0</td><td>1</td><td>2.58</td><td>2.58</td><td>7.855545</td><td>7.855545</td><td>1.826</td><td>1.826</td><td>7.509883</td><td>7.509883</td><td>0.754</td><td>0.754</td><td>0.345662</td><td>0.345662</td></tr></tbody></table></div>"
      ],
      "text/plain": [
       "<nicewebrl.dataframe.DataFrame at 0x4fe5eab30>"
      ]
     },
     "execution_count": 180,
     "metadata": {},
     "output_type": "execute_result"
    }
   ],
   "source": [
    "import jaxmaze_individual_rts\n",
    "\n",
    "paths_diff_df = jaxmaze_individual_rts.create_two_paths_diff_rt_df(user_df)\n",
    "paths_diff_df.head()"
   ]
  },
  {
   "cell_type": "code",
   "execution_count": 191,
   "id": "84f68d30-c215-4747-a848-483fa48a0156",
   "metadata": {},
   "outputs": [
    {
     "name": "stdout",
     "output_type": "stream",
     "text": [
      "Saved figure to /Users/wilka/git/research/preplay_results/jaxmaze_individual_rts/two_paths.pdf\n"
     ]
    }
   ],
   "source": [
    "fig = jaxmaze_individual_rts.plot_min_median_max_differences(paths_diff_df, \"first_rt\")\n",
    "jaxmaze_individual_rts.save_figure(fig, \"two_paths\")\n",
    "plt.show()"
   ]
  },
  {
   "cell_type": "code",
   "execution_count": 192,
   "id": "13ce6b4c-061d-423e-b9a8-7c3a7096880b",
   "metadata": {},
   "outputs": [
    {
     "name": "stdout",
     "output_type": "stream",
     "text": [
      "Saved figure to /Users/wilka/git/research/preplay_results/jaxmaze_individual_rts/two_paths_max.pdf\n"
     ]
    }
   ],
   "source": [
    "fig = jaxmaze_individual_rts.plot_min_median_max_differences(paths_diff_df, \"max_rt\")\n",
    "jaxmaze_individual_rts.save_figure(fig, \"two_paths_max\")\n",
    "plt.show()"
   ]
  },
  {
   "cell_type": "code",
   "execution_count": 175,
   "id": "3c2bed4a-3eee-484c-a557-42d9a04d0c67",
   "metadata": {
    "scrolled": true
   },
   "outputs": [],
   "source": [
    "# fig = jaxmaze_individual_rts.plot_min_median_max_differences(paths_diff_df, 'max_rt')\n",
    "# plt.show()"
   ]
  },
  {
   "cell_type": "markdown",
   "id": "718d2f8f-23be-454d-9560-2a2c0f1b1c80",
   "metadata": {},
   "source": [
    "# Juncture"
   ]
  },
  {
   "cell_type": "code",
   "execution_count": 182,
   "id": "c4a4db6e-fb0a-4f88-848d-5db68a4c3a94",
   "metadata": {},
   "outputs": [
    {
     "data": {
      "text/html": [
       "<div><style>\n",
       ".dataframe > thead > tr,\n",
       ".dataframe > tbody > tr {\n",
       "  text-align: right;\n",
       "  white-space: pre-wrap;\n",
       "}\n",
       "</style>\n",
       "<small>shape: (5, 15)</small><table border=\"1\" class=\"dataframe\"><thead><tr><th>index</th><th>user_id</th><th>maze_base</th><th>reuse1_first_rt</th><th>reuse1_max_rt</th><th>reuse1_first_log_rt</th><th>reuse1_max_log_rt</th><th>reuse0_first_rt</th><th>reuse0_max_rt</th><th>reuse0_first_log_rt</th><th>reuse0_max_log_rt</th><th>diff_first_rt</th><th>diff_max_rt</th><th>diff_first_log_rt</th><th>diff_max_log_rt</th></tr><tr><td>u32</td><td>i64</td><td>str</td><td>f64</td><td>f64</td><td>f64</td><td>f64</td><td>f64</td><td>f64</td><td>f64</td><td>f64</td><td>f64</td><td>f64</td><td>f64</td><td>f64</td></tr></thead><tbody><tr><td>0</td><td>7320956</td><td>&quot;big_m4_maze_short&quot;</td><td>0.91</td><td>1.656</td><td>6.813445</td><td>7.41216</td><td>1.412</td><td>1.412</td><td>7.252762</td><td>7.252762</td><td>0.502</td><td>-0.244</td><td>0.439318</td><td>-0.159398</td></tr><tr><td>1</td><td>67476985</td><td>&quot;big_m4_maze_short&quot;</td><td>0.496</td><td>0.544</td><td>6.206576</td><td>6.298949</td><td>1.077</td><td>1.077</td><td>6.981935</td><td>6.981935</td><td>0.581</td><td>0.533</td><td>0.775359</td><td>0.682985</td></tr><tr><td>2</td><td>159473847</td><td>&quot;big_m4_maze_short&quot;</td><td>0.644</td><td>0.814</td><td>6.467699</td><td>6.70196</td><td>1.169</td><td>1.169</td><td>7.063904</td><td>7.063904</td><td>0.525</td><td>0.355</td><td>0.596205</td><td>0.361944</td></tr><tr><td>3</td><td>190203667</td><td>&quot;big_m4_maze_short&quot;</td><td>1.198</td><td>1.198</td><td>7.088409</td><td>7.088409</td><td>2.424</td><td>2.424</td><td>7.793174</td><td>7.793174</td><td>1.226</td><td>1.226</td><td>0.704766</td><td>0.704766</td></tr><tr><td>4</td><td>241139646</td><td>&quot;big_m4_maze_short&quot;</td><td>0.951</td><td>0.951</td><td>6.857514</td><td>6.857514</td><td>1.152</td><td>1.152</td><td>7.049255</td><td>7.049255</td><td>0.201</td><td>0.201</td><td>0.191741</td><td>0.191741</td></tr></tbody></table></div>"
      ],
      "text/plain": [
       "<nicewebrl.dataframe.DataFrame at 0x5079e9c90>"
      ]
     },
     "execution_count": 182,
     "metadata": {},
     "output_type": "execute_result"
    }
   ],
   "source": [
    "juncture_df = jaxmaze_individual_rts.create_juncture_diff_rt_df(user_df)\n",
    "juncture_df.head()"
   ]
  },
  {
   "cell_type": "code",
   "execution_count": 189,
   "id": "36457fbc-101b-4508-ac6c-be4c67a9aea6",
   "metadata": {},
   "outputs": [
    {
     "name": "stdout",
     "output_type": "stream",
     "text": [
      "Saved figure to /Users/wilka/git/research/preplay_results/jaxmaze_individual_rts/juncture.pdf\n"
     ]
    }
   ],
   "source": [
    "fig = jaxmaze_individual_rts.plot_min_median_max_differences(juncture_df, \"first_rt\")\n",
    "jaxmaze_individual_rts.save_figure(fig, \"juncture\")\n",
    "plt.show()"
   ]
  },
  {
   "cell_type": "code",
   "execution_count": 193,
   "id": "ca8bd17d-7052-417f-8aa4-933e3bbea0c8",
   "metadata": {},
   "outputs": [
    {
     "name": "stdout",
     "output_type": "stream",
     "text": [
      "Saved figure to /Users/wilka/git/research/preplay_results/jaxmaze_individual_rts/juncture_max.pdf\n"
     ]
    }
   ],
   "source": [
    "fig = jaxmaze_individual_rts.plot_min_median_max_differences(juncture_df, \"max_rt\")\n",
    "jaxmaze_individual_rts.save_figure(fig, \"juncture_max\")\n",
    "plt.show()"
   ]
  },
  {
   "cell_type": "code",
   "execution_count": null,
   "id": "39ac0ec8-b795-472e-b573-8eef81e8ed2f",
   "metadata": {},
   "outputs": [],
   "source": []
  }
 ],
 "metadata": {
  "kernelspec": {
   "display_name": "Python 3 (ipykernel)",
   "language": "python",
   "name": "python3"
  },
  "language_info": {
   "codemirror_mode": {
    "name": "ipython",
    "version": 3
   },
   "file_extension": ".py",
   "mimetype": "text/x-python",
   "name": "python",
   "nbconvert_exporter": "python",
   "pygments_lexer": "ipython3",
   "version": "3.10.15"
  }
 },
 "nbformat": 4,
 "nbformat_minor": 5
}
