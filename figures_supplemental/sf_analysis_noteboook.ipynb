{
 "cells": [
  {
   "cell_type": "code",
   "execution_count": 1,
   "id": "fdb5dace-54bf-40ab-be8e-415a887f8e3f",
   "metadata": {},
   "outputs": [],
   "source": [
    "%load_ext autoreload\n",
    "%autoreload 2"
   ]
  },
  {
   "cell_type": "code",
   "execution_count": 4,
   "id": "de13fe13-135d-4236-bb40-42af98636e42",
   "metadata": {},
   "outputs": [
    {
     "name": "stdout",
     "output_type": "stream",
     "text": [
      "at directory: /Users/wilka/git/research/human-dyna-web/figures\n",
      "changing to root directory\n",
      "at directory: /Users/wilka/git/research/human-dyna-web\n"
     ]
    }
   ],
   "source": [
    "import os\n",
    "import sys\n",
    "\n",
    "print(\"at directory:\", os.getcwd())\n",
    "print(\"changing to root directory\")\n",
    "os.chdir(\"..\")\n",
    "print(\"at directory:\", os.getcwd())"
   ]
  },
  {
   "cell_type": "code",
   "execution_count": 2,
   "id": "544dcbd5-ec28-4938-afc9-a0336a5cb6b5",
   "metadata": {},
   "outputs": [],
   "source": [
    "import matplotlib\n",
    "\n",
    "%matplotlib inline"
   ]
  },
  {
   "cell_type": "code",
   "execution_count": 9,
   "id": "feb33828-d770-4e49-9881-db571c047df7",
   "metadata": {},
   "outputs": [],
   "source": [
    "import sys\n",
    "\n",
    "sys.path.append(\"simulations\")\n",
    "import polars as pl\n",
    "import jax\n",
    "\n",
    "from analysis import housemaze_model_data\n",
    "from analysis import housemaze_analysis\n",
    "from figures import sf_analysis\n",
    "import configs\n",
    "# env, example_timestep = housemaze_model_data.load_env_and_example_timestep()"
   ]
  },
  {
   "cell_type": "code",
   "execution_count": 10,
   "id": "da312454-39e6-445d-8b6d-ffd83ac409be",
   "metadata": {
    "scrolled": true
   },
   "outputs": [
    {
     "data": {
      "application/vnd.jupyter.widget-view+json": {
       "model_id": "98272da56a744cfebd109d346181f143",
       "version_major": 2,
       "version_minor": 0
      },
      "text/plain": [
       "  0%|          | 0/10 [00:00<?, ?it/s]"
      ]
     },
     "metadata": {},
     "output_type": "display_data"
    },
    {
     "name": "stdout",
     "output_type": "stream",
     "text": [
      "No file specified for groups.\n",
      "Using: /Users/wilka/git/research/human-dyna-web/libraries/housemaze/housemaze/human_dyna/list_of_groups.npy\n"
     ]
    },
    {
     "data": {
      "application/vnd.jupyter.widget-view+json": {
       "model_id": "52b4aa640e91487ba1239f1b3d4720c2",
       "version_major": 2,
       "version_minor": 0
      },
      "text/plain": [
       "usfa: Generating maze episodes:   0%|          | 0/3 [00:00<?, ?it/s]"
      ]
     },
     "metadata": {},
     "output_type": "display_data"
    },
    {
     "data": {
      "application/vnd.jupyter.widget-view+json": {
       "model_id": "cbbf6d0a307f4d4daeee44fe4737bb83",
       "version_major": 2,
       "version_minor": 0
      },
      "text/plain": [
       "usfa: Generating maze information:   0%|          | 0/3 [00:00<?, ?it/s]"
      ]
     },
     "metadata": {},
     "output_type": "display_data"
    },
    {
     "name": "stdout",
     "output_type": "stream",
     "text": [
      "No file specified for groups.\n",
      "Using: /Users/wilka/git/research/human-dyna-web/libraries/housemaze/housemaze/human_dyna/list_of_groups.npy\n"
     ]
    },
    {
     "data": {
      "application/vnd.jupyter.widget-view+json": {
       "model_id": "7065834a8a27479591915dda16e10d4a",
       "version_major": 2,
       "version_minor": 0
      },
      "text/plain": [
       "usfa: Generating maze episodes:   0%|          | 0/3 [00:00<?, ?it/s]"
      ]
     },
     "metadata": {},
     "output_type": "display_data"
    },
    {
     "data": {
      "application/vnd.jupyter.widget-view+json": {
       "model_id": "ae18741647da4ef888e60b7256ea49b0",
       "version_major": 2,
       "version_minor": 0
      },
      "text/plain": [
       "usfa: Generating maze information:   0%|          | 0/3 [00:00<?, ?it/s]"
      ]
     },
     "metadata": {},
     "output_type": "display_data"
    },
    {
     "name": "stdout",
     "output_type": "stream",
     "text": [
      "No file specified for groups.\n",
      "Using: /Users/wilka/git/research/human-dyna-web/libraries/housemaze/housemaze/human_dyna/list_of_groups.npy\n"
     ]
    },
    {
     "data": {
      "application/vnd.jupyter.widget-view+json": {
       "model_id": "769a27ed490a4fdba41c2b1290993037",
       "version_major": 2,
       "version_minor": 0
      },
      "text/plain": [
       "usfa: Generating maze episodes:   0%|          | 0/3 [00:00<?, ?it/s]"
      ]
     },
     "metadata": {},
     "output_type": "display_data"
    },
    {
     "data": {
      "application/vnd.jupyter.widget-view+json": {
       "model_id": "8c71625a4eeb47fcad5e4ad7f94458d7",
       "version_major": 2,
       "version_minor": 0
      },
      "text/plain": [
       "usfa: Generating maze information:   0%|          | 0/3 [00:00<?, ?it/s]"
      ]
     },
     "metadata": {},
     "output_type": "display_data"
    },
    {
     "name": "stdout",
     "output_type": "stream",
     "text": [
      "No file specified for groups.\n",
      "Using: /Users/wilka/git/research/human-dyna-web/libraries/housemaze/housemaze/human_dyna/list_of_groups.npy\n"
     ]
    },
    {
     "data": {
      "application/vnd.jupyter.widget-view+json": {
       "model_id": "77eaad14d5d54d3a86bb40d26b33fb3b",
       "version_major": 2,
       "version_minor": 0
      },
      "text/plain": [
       "usfa: Generating maze episodes:   0%|          | 0/3 [00:00<?, ?it/s]"
      ]
     },
     "metadata": {},
     "output_type": "display_data"
    },
    {
     "data": {
      "application/vnd.jupyter.widget-view+json": {
       "model_id": "8ae870241bfd4b24a4df45f51961c339",
       "version_major": 2,
       "version_minor": 0
      },
      "text/plain": [
       "usfa: Generating maze information:   0%|          | 0/3 [00:00<?, ?it/s]"
      ]
     },
     "metadata": {},
     "output_type": "display_data"
    },
    {
     "name": "stdout",
     "output_type": "stream",
     "text": [
      "No file specified for groups.\n",
      "Using: /Users/wilka/git/research/human-dyna-web/libraries/housemaze/housemaze/human_dyna/list_of_groups.npy\n"
     ]
    },
    {
     "data": {
      "application/vnd.jupyter.widget-view+json": {
       "model_id": "f96dff3b195b46aba709fb8a7f42d49e",
       "version_major": 2,
       "version_minor": 0
      },
      "text/plain": [
       "usfa: Generating maze episodes:   0%|          | 0/3 [00:00<?, ?it/s]"
      ]
     },
     "metadata": {},
     "output_type": "display_data"
    },
    {
     "data": {
      "application/vnd.jupyter.widget-view+json": {
       "model_id": "5babf7c8be5e430ba1b3224278a26fd8",
       "version_major": 2,
       "version_minor": 0
      },
      "text/plain": [
       "usfa: Generating maze information:   0%|          | 0/3 [00:00<?, ?it/s]"
      ]
     },
     "metadata": {},
     "output_type": "display_data"
    },
    {
     "name": "stdout",
     "output_type": "stream",
     "text": [
      "No file specified for groups.\n",
      "Using: /Users/wilka/git/research/human-dyna-web/libraries/housemaze/housemaze/human_dyna/list_of_groups.npy\n"
     ]
    },
    {
     "data": {
      "application/vnd.jupyter.widget-view+json": {
       "model_id": "79a853a455b74019b52e0767c8c80693",
       "version_major": 2,
       "version_minor": 0
      },
      "text/plain": [
       "usfa: Generating maze episodes:   0%|          | 0/3 [00:00<?, ?it/s]"
      ]
     },
     "metadata": {},
     "output_type": "display_data"
    },
    {
     "data": {
      "application/vnd.jupyter.widget-view+json": {
       "model_id": "8a31a3d3186f48368df571217cb8ec55",
       "version_major": 2,
       "version_minor": 0
      },
      "text/plain": [
       "usfa: Generating maze information:   0%|          | 0/3 [00:00<?, ?it/s]"
      ]
     },
     "metadata": {},
     "output_type": "display_data"
    },
    {
     "name": "stdout",
     "output_type": "stream",
     "text": [
      "No file specified for groups.\n",
      "Using: /Users/wilka/git/research/human-dyna-web/libraries/housemaze/housemaze/human_dyna/list_of_groups.npy\n"
     ]
    },
    {
     "data": {
      "application/vnd.jupyter.widget-view+json": {
       "model_id": "c2218fcf50264913836ab45d8d96444b",
       "version_major": 2,
       "version_minor": 0
      },
      "text/plain": [
       "usfa: Generating maze episodes:   0%|          | 0/3 [00:00<?, ?it/s]"
      ]
     },
     "metadata": {},
     "output_type": "display_data"
    },
    {
     "data": {
      "application/vnd.jupyter.widget-view+json": {
       "model_id": "c538dee0e6e1479a88167be13e326757",
       "version_major": 2,
       "version_minor": 0
      },
      "text/plain": [
       "usfa: Generating maze information:   0%|          | 0/3 [00:00<?, ?it/s]"
      ]
     },
     "metadata": {},
     "output_type": "display_data"
    },
    {
     "name": "stdout",
     "output_type": "stream",
     "text": [
      "No file specified for groups.\n",
      "Using: /Users/wilka/git/research/human-dyna-web/libraries/housemaze/housemaze/human_dyna/list_of_groups.npy\n"
     ]
    },
    {
     "data": {
      "application/vnd.jupyter.widget-view+json": {
       "model_id": "2bac1a30b7e14b60a21881e6fd2f7ee0",
       "version_major": 2,
       "version_minor": 0
      },
      "text/plain": [
       "usfa: Generating maze episodes:   0%|          | 0/3 [00:00<?, ?it/s]"
      ]
     },
     "metadata": {},
     "output_type": "display_data"
    },
    {
     "data": {
      "application/vnd.jupyter.widget-view+json": {
       "model_id": "f28834a5e36946eabf582eacf7a6ef89",
       "version_major": 2,
       "version_minor": 0
      },
      "text/plain": [
       "usfa: Generating maze information:   0%|          | 0/3 [00:00<?, ?it/s]"
      ]
     },
     "metadata": {},
     "output_type": "display_data"
    },
    {
     "name": "stdout",
     "output_type": "stream",
     "text": [
      "No file specified for groups.\n",
      "Using: /Users/wilka/git/research/human-dyna-web/libraries/housemaze/housemaze/human_dyna/list_of_groups.npy\n"
     ]
    },
    {
     "data": {
      "application/vnd.jupyter.widget-view+json": {
       "model_id": "27780cd0e9934ed59d655cf21ca39989",
       "version_major": 2,
       "version_minor": 0
      },
      "text/plain": [
       "usfa: Generating maze episodes:   0%|          | 0/3 [00:00<?, ?it/s]"
      ]
     },
     "metadata": {},
     "output_type": "display_data"
    },
    {
     "data": {
      "application/vnd.jupyter.widget-view+json": {
       "model_id": "04a6a895d88440e2b3b423103e99db3f",
       "version_major": 2,
       "version_minor": 0
      },
      "text/plain": [
       "usfa: Generating maze information:   0%|          | 0/3 [00:00<?, ?it/s]"
      ]
     },
     "metadata": {},
     "output_type": "display_data"
    },
    {
     "name": "stdout",
     "output_type": "stream",
     "text": [
      "No file specified for groups.\n",
      "Using: /Users/wilka/git/research/human-dyna-web/libraries/housemaze/housemaze/human_dyna/list_of_groups.npy\n"
     ]
    },
    {
     "data": {
      "application/vnd.jupyter.widget-view+json": {
       "model_id": "37067be11bb545f3bb2dbd49052dff0f",
       "version_major": 2,
       "version_minor": 0
      },
      "text/plain": [
       "usfa: Generating maze episodes:   0%|          | 0/3 [00:00<?, ?it/s]"
      ]
     },
     "metadata": {},
     "output_type": "display_data"
    },
    {
     "data": {
      "application/vnd.jupyter.widget-view+json": {
       "model_id": "98be9691b6c845759a52450a98641abb",
       "version_major": 2,
       "version_minor": 0
      },
      "text/plain": [
       "usfa: Generating maze information:   0%|          | 0/3 [00:00<?, ?it/s]"
      ]
     },
     "metadata": {},
     "output_type": "display_data"
    },
    {
     "data": {
      "application/vnd.jupyter.widget-view+json": {
       "model_id": "9cb547969f53450bace1afa4231ff88c",
       "version_major": 2,
       "version_minor": 0
      },
      "text/plain": [
       "  0%|          | 0/10 [00:00<?, ?it/s]"
      ]
     },
     "metadata": {},
     "output_type": "display_data"
    },
    {
     "name": "stdout",
     "output_type": "stream",
     "text": [
      "No file specified for groups.\n",
      "Using: /Users/wilka/git/research/human-dyna-web/libraries/housemaze/housemaze/human_dyna/list_of_groups.npy\n"
     ]
    },
    {
     "data": {
      "application/vnd.jupyter.widget-view+json": {
       "model_id": "28f1c53d70984045a45ed51705f226c2",
       "version_major": 2,
       "version_minor": 0
      },
      "text/plain": [
       "usfa: Generating maze episodes:   0%|          | 0/3 [00:00<?, ?it/s]"
      ]
     },
     "metadata": {},
     "output_type": "display_data"
    },
    {
     "data": {
      "application/vnd.jupyter.widget-view+json": {
       "model_id": "6bdc099ba0f04b10b726afbb7be63768",
       "version_major": 2,
       "version_minor": 0
      },
      "text/plain": [
       "usfa: Generating maze information:   0%|          | 0/3 [00:00<?, ?it/s]"
      ]
     },
     "metadata": {},
     "output_type": "display_data"
    },
    {
     "name": "stdout",
     "output_type": "stream",
     "text": [
      "No file specified for groups.\n",
      "Using: /Users/wilka/git/research/human-dyna-web/libraries/housemaze/housemaze/human_dyna/list_of_groups.npy\n"
     ]
    },
    {
     "data": {
      "application/vnd.jupyter.widget-view+json": {
       "model_id": "c7c8316c98b745febeb5a4c82595c4aa",
       "version_major": 2,
       "version_minor": 0
      },
      "text/plain": [
       "usfa: Generating maze episodes:   0%|          | 0/3 [00:00<?, ?it/s]"
      ]
     },
     "metadata": {},
     "output_type": "display_data"
    },
    {
     "data": {
      "application/vnd.jupyter.widget-view+json": {
       "model_id": "1b397c021e3f4e9896292dfa73486927",
       "version_major": 2,
       "version_minor": 0
      },
      "text/plain": [
       "usfa: Generating maze information:   0%|          | 0/3 [00:00<?, ?it/s]"
      ]
     },
     "metadata": {},
     "output_type": "display_data"
    },
    {
     "name": "stdout",
     "output_type": "stream",
     "text": [
      "No file specified for groups.\n",
      "Using: /Users/wilka/git/research/human-dyna-web/libraries/housemaze/housemaze/human_dyna/list_of_groups.npy\n"
     ]
    },
    {
     "data": {
      "application/vnd.jupyter.widget-view+json": {
       "model_id": "aa489e78fc964504a70699314ee0ade9",
       "version_major": 2,
       "version_minor": 0
      },
      "text/plain": [
       "usfa: Generating maze episodes:   0%|          | 0/3 [00:00<?, ?it/s]"
      ]
     },
     "metadata": {},
     "output_type": "display_data"
    },
    {
     "data": {
      "application/vnd.jupyter.widget-view+json": {
       "model_id": "619cbc7531b549b18cbeee2ea8ad7fca",
       "version_major": 2,
       "version_minor": 0
      },
      "text/plain": [
       "usfa: Generating maze information:   0%|          | 0/3 [00:00<?, ?it/s]"
      ]
     },
     "metadata": {},
     "output_type": "display_data"
    },
    {
     "name": "stdout",
     "output_type": "stream",
     "text": [
      "No file specified for groups.\n",
      "Using: /Users/wilka/git/research/human-dyna-web/libraries/housemaze/housemaze/human_dyna/list_of_groups.npy\n"
     ]
    },
    {
     "data": {
      "application/vnd.jupyter.widget-view+json": {
       "model_id": "ed3ea9b56fec4321b3e110e98eb574e9",
       "version_major": 2,
       "version_minor": 0
      },
      "text/plain": [
       "usfa: Generating maze episodes:   0%|          | 0/3 [00:00<?, ?it/s]"
      ]
     },
     "metadata": {},
     "output_type": "display_data"
    },
    {
     "data": {
      "application/vnd.jupyter.widget-view+json": {
       "model_id": "67ceaca663ce44d4b529112b782fe274",
       "version_major": 2,
       "version_minor": 0
      },
      "text/plain": [
       "usfa: Generating maze information:   0%|          | 0/3 [00:00<?, ?it/s]"
      ]
     },
     "metadata": {},
     "output_type": "display_data"
    },
    {
     "name": "stdout",
     "output_type": "stream",
     "text": [
      "No file specified for groups.\n",
      "Using: /Users/wilka/git/research/human-dyna-web/libraries/housemaze/housemaze/human_dyna/list_of_groups.npy\n"
     ]
    },
    {
     "data": {
      "application/vnd.jupyter.widget-view+json": {
       "model_id": "526e905d57604a3dae3332ecdb7fd845",
       "version_major": 2,
       "version_minor": 0
      },
      "text/plain": [
       "usfa: Generating maze episodes:   0%|          | 0/3 [00:00<?, ?it/s]"
      ]
     },
     "metadata": {},
     "output_type": "display_data"
    },
    {
     "data": {
      "application/vnd.jupyter.widget-view+json": {
       "model_id": "42c384ca24564dd68a94408da2f0ae2c",
       "version_major": 2,
       "version_minor": 0
      },
      "text/plain": [
       "usfa: Generating maze information:   0%|          | 0/3 [00:00<?, ?it/s]"
      ]
     },
     "metadata": {},
     "output_type": "display_data"
    },
    {
     "name": "stdout",
     "output_type": "stream",
     "text": [
      "No file specified for groups.\n",
      "Using: /Users/wilka/git/research/human-dyna-web/libraries/housemaze/housemaze/human_dyna/list_of_groups.npy\n"
     ]
    },
    {
     "data": {
      "application/vnd.jupyter.widget-view+json": {
       "model_id": "3bb71fa46652454495dd017204aa1803",
       "version_major": 2,
       "version_minor": 0
      },
      "text/plain": [
       "usfa: Generating maze episodes:   0%|          | 0/3 [00:00<?, ?it/s]"
      ]
     },
     "metadata": {},
     "output_type": "display_data"
    },
    {
     "data": {
      "application/vnd.jupyter.widget-view+json": {
       "model_id": "36dda993672147f9b5bd440c59a6155c",
       "version_major": 2,
       "version_minor": 0
      },
      "text/plain": [
       "usfa: Generating maze information:   0%|          | 0/3 [00:00<?, ?it/s]"
      ]
     },
     "metadata": {},
     "output_type": "display_data"
    },
    {
     "name": "stdout",
     "output_type": "stream",
     "text": [
      "No file specified for groups.\n",
      "Using: /Users/wilka/git/research/human-dyna-web/libraries/housemaze/housemaze/human_dyna/list_of_groups.npy\n"
     ]
    },
    {
     "data": {
      "application/vnd.jupyter.widget-view+json": {
       "model_id": "ee1b1bf98a1c46a195dd6906d2864982",
       "version_major": 2,
       "version_minor": 0
      },
      "text/plain": [
       "usfa: Generating maze episodes:   0%|          | 0/3 [00:00<?, ?it/s]"
      ]
     },
     "metadata": {},
     "output_type": "display_data"
    },
    {
     "data": {
      "application/vnd.jupyter.widget-view+json": {
       "model_id": "b2c96102d4cc45a6a753831b3aec66ae",
       "version_major": 2,
       "version_minor": 0
      },
      "text/plain": [
       "usfa: Generating maze information:   0%|          | 0/3 [00:00<?, ?it/s]"
      ]
     },
     "metadata": {},
     "output_type": "display_data"
    },
    {
     "name": "stdout",
     "output_type": "stream",
     "text": [
      "No file specified for groups.\n",
      "Using: /Users/wilka/git/research/human-dyna-web/libraries/housemaze/housemaze/human_dyna/list_of_groups.npy\n"
     ]
    },
    {
     "data": {
      "application/vnd.jupyter.widget-view+json": {
       "model_id": "0118f3a155fb4b10807c9dfee96e7cd4",
       "version_major": 2,
       "version_minor": 0
      },
      "text/plain": [
       "usfa: Generating maze episodes:   0%|          | 0/3 [00:00<?, ?it/s]"
      ]
     },
     "metadata": {},
     "output_type": "display_data"
    },
    {
     "data": {
      "application/vnd.jupyter.widget-view+json": {
       "model_id": "94f6a21994b24706b55f4573d984a1af",
       "version_major": 2,
       "version_minor": 0
      },
      "text/plain": [
       "usfa: Generating maze information:   0%|          | 0/3 [00:00<?, ?it/s]"
      ]
     },
     "metadata": {},
     "output_type": "display_data"
    },
    {
     "name": "stdout",
     "output_type": "stream",
     "text": [
      "No file specified for groups.\n",
      "Using: /Users/wilka/git/research/human-dyna-web/libraries/housemaze/housemaze/human_dyna/list_of_groups.npy\n"
     ]
    },
    {
     "data": {
      "application/vnd.jupyter.widget-view+json": {
       "model_id": "54e2c7d7111b461ba352881d8acc788d",
       "version_major": 2,
       "version_minor": 0
      },
      "text/plain": [
       "usfa: Generating maze episodes:   0%|          | 0/3 [00:00<?, ?it/s]"
      ]
     },
     "metadata": {},
     "output_type": "display_data"
    },
    {
     "data": {
      "application/vnd.jupyter.widget-view+json": {
       "model_id": "8ceb6bbdd490432cac98726c264c3c4b",
       "version_major": 2,
       "version_minor": 0
      },
      "text/plain": [
       "usfa: Generating maze information:   0%|          | 0/3 [00:00<?, ?it/s]"
      ]
     },
     "metadata": {},
     "output_type": "display_data"
    },
    {
     "name": "stdout",
     "output_type": "stream",
     "text": [
      "No file specified for groups.\n",
      "Using: /Users/wilka/git/research/human-dyna-web/libraries/housemaze/housemaze/human_dyna/list_of_groups.npy\n"
     ]
    },
    {
     "data": {
      "application/vnd.jupyter.widget-view+json": {
       "model_id": "5eea41136e174098b1dd17002877565a",
       "version_major": 2,
       "version_minor": 0
      },
      "text/plain": [
       "usfa: Generating maze episodes:   0%|          | 0/3 [00:00<?, ?it/s]"
      ]
     },
     "metadata": {},
     "output_type": "display_data"
    },
    {
     "data": {
      "application/vnd.jupyter.widget-view+json": {
       "model_id": "f5f528544f7348b683a6def32a505382",
       "version_major": 2,
       "version_minor": 0
      },
      "text/plain": [
       "usfa: Generating maze information:   0%|          | 0/3 [00:00<?, ?it/s]"
      ]
     },
     "metadata": {},
     "output_type": "display_data"
    },
    {
     "data": {
      "application/vnd.jupyter.widget-view+json": {
       "model_id": "4bd2d264510a42dbb589d6e20c4128b2",
       "version_major": 2,
       "version_minor": 0
      },
      "text/plain": [
       "  0%|          | 0/10 [00:00<?, ?it/s]"
      ]
     },
     "metadata": {},
     "output_type": "display_data"
    },
    {
     "name": "stdout",
     "output_type": "stream",
     "text": [
      "No file specified for groups.\n",
      "Using: /Users/wilka/git/research/human-dyna-web/libraries/housemaze/housemaze/human_dyna/list_of_groups.npy\n"
     ]
    },
    {
     "data": {
      "application/vnd.jupyter.widget-view+json": {
       "model_id": "b985ab3fe4e6440185ced49cc138c2cf",
       "version_major": 2,
       "version_minor": 0
      },
      "text/plain": [
       "usfa: Generating maze episodes:   0%|          | 0/3 [00:00<?, ?it/s]"
      ]
     },
     "metadata": {},
     "output_type": "display_data"
    },
    {
     "data": {
      "application/vnd.jupyter.widget-view+json": {
       "model_id": "507b28afbd184c3ca273070a04accc84",
       "version_major": 2,
       "version_minor": 0
      },
      "text/plain": [
       "usfa: Generating maze information:   0%|          | 0/3 [00:00<?, ?it/s]"
      ]
     },
     "metadata": {},
     "output_type": "display_data"
    },
    {
     "name": "stdout",
     "output_type": "stream",
     "text": [
      "No file specified for groups.\n",
      "Using: /Users/wilka/git/research/human-dyna-web/libraries/housemaze/housemaze/human_dyna/list_of_groups.npy\n"
     ]
    },
    {
     "data": {
      "application/vnd.jupyter.widget-view+json": {
       "model_id": "0d543ed706804bf1bf361ae6453aca38",
       "version_major": 2,
       "version_minor": 0
      },
      "text/plain": [
       "usfa: Generating maze episodes:   0%|          | 0/3 [00:00<?, ?it/s]"
      ]
     },
     "metadata": {},
     "output_type": "display_data"
    },
    {
     "data": {
      "application/vnd.jupyter.widget-view+json": {
       "model_id": "8a84a152da384283983d68e0cdb0ef38",
       "version_major": 2,
       "version_minor": 0
      },
      "text/plain": [
       "usfa: Generating maze information:   0%|          | 0/3 [00:00<?, ?it/s]"
      ]
     },
     "metadata": {},
     "output_type": "display_data"
    },
    {
     "name": "stdout",
     "output_type": "stream",
     "text": [
      "No file specified for groups.\n",
      "Using: /Users/wilka/git/research/human-dyna-web/libraries/housemaze/housemaze/human_dyna/list_of_groups.npy\n"
     ]
    },
    {
     "data": {
      "application/vnd.jupyter.widget-view+json": {
       "model_id": "ff6645d702a840f0a688dd38d7a305c3",
       "version_major": 2,
       "version_minor": 0
      },
      "text/plain": [
       "usfa: Generating maze episodes:   0%|          | 0/3 [00:00<?, ?it/s]"
      ]
     },
     "metadata": {},
     "output_type": "display_data"
    },
    {
     "data": {
      "application/vnd.jupyter.widget-view+json": {
       "model_id": "c9e346b7bad64ce1a633e7f3e9e6007d",
       "version_major": 2,
       "version_minor": 0
      },
      "text/plain": [
       "usfa: Generating maze information:   0%|          | 0/3 [00:00<?, ?it/s]"
      ]
     },
     "metadata": {},
     "output_type": "display_data"
    },
    {
     "name": "stdout",
     "output_type": "stream",
     "text": [
      "No file specified for groups.\n",
      "Using: /Users/wilka/git/research/human-dyna-web/libraries/housemaze/housemaze/human_dyna/list_of_groups.npy\n"
     ]
    },
    {
     "data": {
      "application/vnd.jupyter.widget-view+json": {
       "model_id": "dda25ee8cfb64614b32d8c9e1b2d9890",
       "version_major": 2,
       "version_minor": 0
      },
      "text/plain": [
       "usfa: Generating maze episodes:   0%|          | 0/3 [00:00<?, ?it/s]"
      ]
     },
     "metadata": {},
     "output_type": "display_data"
    },
    {
     "data": {
      "application/vnd.jupyter.widget-view+json": {
       "model_id": "d0479ebe494a458fbc85ad29de2bc9d4",
       "version_major": 2,
       "version_minor": 0
      },
      "text/plain": [
       "usfa: Generating maze information:   0%|          | 0/3 [00:00<?, ?it/s]"
      ]
     },
     "metadata": {},
     "output_type": "display_data"
    },
    {
     "name": "stdout",
     "output_type": "stream",
     "text": [
      "No file specified for groups.\n",
      "Using: /Users/wilka/git/research/human-dyna-web/libraries/housemaze/housemaze/human_dyna/list_of_groups.npy\n"
     ]
    },
    {
     "data": {
      "application/vnd.jupyter.widget-view+json": {
       "model_id": "caa3c9090ddb4f0e941a507c83592a1a",
       "version_major": 2,
       "version_minor": 0
      },
      "text/plain": [
       "usfa: Generating maze episodes:   0%|          | 0/3 [00:00<?, ?it/s]"
      ]
     },
     "metadata": {},
     "output_type": "display_data"
    },
    {
     "data": {
      "application/vnd.jupyter.widget-view+json": {
       "model_id": "2207060638974c5b83ca2626d859631e",
       "version_major": 2,
       "version_minor": 0
      },
      "text/plain": [
       "usfa: Generating maze information:   0%|          | 0/3 [00:00<?, ?it/s]"
      ]
     },
     "metadata": {},
     "output_type": "display_data"
    },
    {
     "name": "stdout",
     "output_type": "stream",
     "text": [
      "No file specified for groups.\n",
      "Using: /Users/wilka/git/research/human-dyna-web/libraries/housemaze/housemaze/human_dyna/list_of_groups.npy\n"
     ]
    },
    {
     "data": {
      "application/vnd.jupyter.widget-view+json": {
       "model_id": "efe0e838b8ca4362b43da49101831193",
       "version_major": 2,
       "version_minor": 0
      },
      "text/plain": [
       "usfa: Generating maze episodes:   0%|          | 0/3 [00:00<?, ?it/s]"
      ]
     },
     "metadata": {},
     "output_type": "display_data"
    },
    {
     "data": {
      "application/vnd.jupyter.widget-view+json": {
       "model_id": "63428b1006da459e903a65ae6a37f6a4",
       "version_major": 2,
       "version_minor": 0
      },
      "text/plain": [
       "usfa: Generating maze information:   0%|          | 0/3 [00:00<?, ?it/s]"
      ]
     },
     "metadata": {},
     "output_type": "display_data"
    },
    {
     "name": "stdout",
     "output_type": "stream",
     "text": [
      "No file specified for groups.\n",
      "Using: /Users/wilka/git/research/human-dyna-web/libraries/housemaze/housemaze/human_dyna/list_of_groups.npy\n"
     ]
    },
    {
     "data": {
      "application/vnd.jupyter.widget-view+json": {
       "model_id": "91ba69351a6a4270b0e1eb76f721c4f3",
       "version_major": 2,
       "version_minor": 0
      },
      "text/plain": [
       "usfa: Generating maze episodes:   0%|          | 0/3 [00:00<?, ?it/s]"
      ]
     },
     "metadata": {},
     "output_type": "display_data"
    },
    {
     "data": {
      "application/vnd.jupyter.widget-view+json": {
       "model_id": "f0be3306d002469fb58e0c85523d4a66",
       "version_major": 2,
       "version_minor": 0
      },
      "text/plain": [
       "usfa: Generating maze information:   0%|          | 0/3 [00:00<?, ?it/s]"
      ]
     },
     "metadata": {},
     "output_type": "display_data"
    },
    {
     "name": "stdout",
     "output_type": "stream",
     "text": [
      "No file specified for groups.\n",
      "Using: /Users/wilka/git/research/human-dyna-web/libraries/housemaze/housemaze/human_dyna/list_of_groups.npy\n"
     ]
    },
    {
     "data": {
      "application/vnd.jupyter.widget-view+json": {
       "model_id": "3999960879f94feaa5678f1b3b55edb5",
       "version_major": 2,
       "version_minor": 0
      },
      "text/plain": [
       "usfa: Generating maze episodes:   0%|          | 0/3 [00:00<?, ?it/s]"
      ]
     },
     "metadata": {},
     "output_type": "display_data"
    },
    {
     "data": {
      "application/vnd.jupyter.widget-view+json": {
       "model_id": "f8b47d56ae34417884e8ab813e2cfc57",
       "version_major": 2,
       "version_minor": 0
      },
      "text/plain": [
       "usfa: Generating maze information:   0%|          | 0/3 [00:00<?, ?it/s]"
      ]
     },
     "metadata": {},
     "output_type": "display_data"
    },
    {
     "name": "stdout",
     "output_type": "stream",
     "text": [
      "No file specified for groups.\n",
      "Using: /Users/wilka/git/research/human-dyna-web/libraries/housemaze/housemaze/human_dyna/list_of_groups.npy\n"
     ]
    },
    {
     "data": {
      "application/vnd.jupyter.widget-view+json": {
       "model_id": "7b390bfb0b9c47c19dfd46026bda5e74",
       "version_major": 2,
       "version_minor": 0
      },
      "text/plain": [
       "usfa: Generating maze episodes:   0%|          | 0/3 [00:00<?, ?it/s]"
      ]
     },
     "metadata": {},
     "output_type": "display_data"
    },
    {
     "data": {
      "application/vnd.jupyter.widget-view+json": {
       "model_id": "c265449fcda04c62bfa849c4bfa107e1",
       "version_major": 2,
       "version_minor": 0
      },
      "text/plain": [
       "usfa: Generating maze information:   0%|          | 0/3 [00:00<?, ?it/s]"
      ]
     },
     "metadata": {},
     "output_type": "display_data"
    },
    {
     "name": "stdout",
     "output_type": "stream",
     "text": [
      "No file specified for groups.\n",
      "Using: /Users/wilka/git/research/human-dyna-web/libraries/housemaze/housemaze/human_dyna/list_of_groups.npy\n"
     ]
    },
    {
     "data": {
      "application/vnd.jupyter.widget-view+json": {
       "model_id": "7f7d549ad3a6473d8fa657151f8b3177",
       "version_major": 2,
       "version_minor": 0
      },
      "text/plain": [
       "usfa: Generating maze episodes:   0%|          | 0/3 [00:00<?, ?it/s]"
      ]
     },
     "metadata": {},
     "output_type": "display_data"
    },
    {
     "data": {
      "application/vnd.jupyter.widget-view+json": {
       "model_id": "492ec2c64ed543bba07df9959f00ed1a",
       "version_major": 2,
       "version_minor": 0
      },
      "text/plain": [
       "usfa: Generating maze information:   0%|          | 0/3 [00:00<?, ?it/s]"
      ]
     },
     "metadata": {},
     "output_type": "display_data"
    }
   ],
   "source": [
    "sf_df = sf_analysis.get_sf_df(\n",
    "  overwrite_episodes=True,\n",
    "  overwrite_df=True,\n",
    "  out_path=f\"{configs.DIRECTORY}/sf_analysis\",\n",
    "  support_set=[\"eval\", \"train\", \"train_eval\"],\n",
    ")"
   ]
  },
  {
   "cell_type": "code",
   "execution_count": 21,
   "id": "ae2181d6-973d-4827-b5f4-f3d4c9d770b6",
   "metadata": {},
   "outputs": [
    {
     "data": {
      "text/html": [
       "<div><style>\n",
       ".dataframe > thead > tr,\n",
       ".dataframe > tbody > tr {\n",
       "  text-align: right;\n",
       "  white-space: pre-wrap;\n",
       "}\n",
       "</style>\n",
       "<small>shape: (1, 2)</small><table border=\"1\" class=\"dataframe\"><thead><tr><th>algo</th><th>success</th></tr><tr><td>str</td><td>f64</td></tr></thead><tbody><tr><td>&quot;usfa&quot;</td><td>0.966667</td></tr></tbody></table></div>"
      ],
      "text/plain": [
       "shape: (1, 2)\n",
       "┌──────┬──────────┐\n",
       "│ algo ┆ success  │\n",
       "│ ---  ┆ ---      │\n",
       "│ str  ┆ f64      │\n",
       "╞══════╪══════════╡\n",
       "│ usfa ┆ 0.966667 │\n",
       "└──────┴──────────┘"
      ]
     },
     "execution_count": 21,
     "metadata": {},
     "output_type": "execute_result"
    }
   ],
   "source": [
    "sf_df.filter(eval=False).group_by(\"algo\").agg(\n",
    "  success=pl.col(\"success\").cast(pl.Float64).mean()\n",
    ")"
   ]
  },
  {
   "cell_type": "code",
   "execution_count": 19,
   "id": "0de499a1-64a8-4327-9e41-0c78295389ea",
   "metadata": {},
   "outputs": [
    {
     "data": {
      "text/html": [
       "<div><style>\n",
       ".dataframe > thead > tr,\n",
       ".dataframe > tbody > tr {\n",
       "  text-align: right;\n",
       "  white-space: pre-wrap;\n",
       "}\n",
       "</style>\n",
       "<small>shape: (3, 2)</small><table border=\"1\" class=\"dataframe\"><thead><tr><th>EVAL_TASK_SUPPORT</th><th>mean_reuse</th></tr><tr><td>str</td><td>f64</td></tr></thead><tbody><tr><td>&quot;train&quot;</td><td>0.888889</td></tr><tr><td>&quot;train_eval&quot;</td><td>0.888889</td></tr><tr><td>&quot;eval&quot;</td><td>0.888889</td></tr></tbody></table></div>"
      ],
      "text/plain": [
       "shape: (3, 2)\n",
       "┌───────────────────┬────────────┐\n",
       "│ EVAL_TASK_SUPPORT ┆ mean_reuse │\n",
       "│ ---               ┆ ---        │\n",
       "│ str               ┆ f64        │\n",
       "╞═══════════════════╪════════════╡\n",
       "│ train             ┆ 0.888889   │\n",
       "│ train_eval        ┆ 0.888889   │\n",
       "│ eval              ┆ 0.888889   │\n",
       "└───────────────────┴────────────┘"
      ]
     },
     "execution_count": 19,
     "metadata": {},
     "output_type": "execute_result"
    }
   ],
   "source": [
    "sf_df.filter(eval=True, manipulation=3).group_by(\"EVAL_TASK_SUPPORT\").agg(\n",
    "  pl.col(\"success\").mean().alias(\"mean_success\")\n",
    ")\n",
    "\n",
    "sf_df.filter(eval=True, manipulation=3).group_by(\"EVAL_TASK_SUPPORT\").agg(\n",
    "  pl.col(\"reuse\").mean().alias(\"mean_reuse\")\n",
    ")"
   ]
  },
  {
   "cell_type": "code",
   "execution_count": 13,
   "id": "4d32b687-f130-46e0-b9fc-10ecd03f9626",
   "metadata": {},
   "outputs": [],
   "source": [
    "# sf_df.filter(eval=False, manipulation=3, EVAL_TASK_SUPPORT='eval', task=26)['seed'].unique()"
   ]
  },
  {
   "cell_type": "code",
   "execution_count": 15,
   "id": "a267cd48-77ff-4671-8cf7-3364877d6594",
   "metadata": {},
   "outputs": [
    {
     "name": "stdout",
     "output_type": "stream",
     "text": [
      "Saved figure to /Users/wilka/git/research/preplay_results/sf_analysis/plots/sf_plot_seed=1.pdf\n"
     ]
    },
    {
     "data": {
      "image/png": "[encoded data removed]",
      "text/plain": [
       "<Figure size 1000x1000 with 4 Axes>"
      ]
     },
     "metadata": {},
     "output_type": "display_data"
    }
   ],
   "source": [
    "fig, ax = sf_analysis.make_sf_plot(sf_df, seed=1)"
   ]
  },
  {
   "cell_type": "code",
   "execution_count": 120,
   "id": "83de4581-6c62-4f79-9470-9497fe657aff",
   "metadata": {},
   "outputs": [
    {
     "name": "stdout",
     "output_type": "stream",
     "text": [
      "Saved figure to /Users/wilka/git/research/preplay_results/sf_analysis/plots/sf_plot_seed=2.pdf\n"
     ]
    }
   ],
   "source": [
    "fig, ax = sf_analysis.make_sf_plot(sf_df, seed=2)"
   ]
  },
  {
   "cell_type": "code",
   "execution_count": 121,
   "id": "d109c334-9ff2-44d0-9323-458ba2389006",
   "metadata": {},
   "outputs": [
    {
     "name": "stdout",
     "output_type": "stream",
     "text": [
      "Saved figure to /Users/wilka/git/research/preplay_results/sf_analysis/plots/sf_plot_seed=4.pdf\n"
     ]
    }
   ],
   "source": [
    "fig, ax = sf_analysis.make_sf_plot(sf_df, seed=4)"
   ]
  }
 ],
 "metadata": {
  "kernelspec": {
   "display_name": "Python 3 (ipykernel)",
   "language": "python",
   "name": "python3"
  },
  "language_info": {
   "codemirror_mode": {
    "name": "ipython",
    "version": 3
   },
   "file_extension": ".py",
   "mimetype": "text/x-python",
   "name": "python",
   "nbconvert_exporter": "python",
   "pygments_lexer": "ipython3",
   "version": "3.10.15"
  }
 },
 "nbformat": 4,
 "nbformat_minor": 5
}
